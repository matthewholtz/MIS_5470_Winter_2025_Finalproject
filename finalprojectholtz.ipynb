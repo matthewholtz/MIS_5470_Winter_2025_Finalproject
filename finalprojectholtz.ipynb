{
 "cells": [
  {
   "cell_type": "markdown",
   "id": "e8f3ff37-ea0c-41eb-ab9f-5a0ffcbb55c1",
   "metadata": {},
   "source": [
    "## How to visualize map data\n",
    "The purpose of this project is to look at the different ways that pyhon can handle mapped data. I will be looking at different techniques and exploring the strenght and weaknesses of it. \n",
    "### Data\n",
    "I will be using the data from a bike sharing program starting in 2014 and going through 2016. "
   ]
  }
 ],
 "metadata": {
  "kernelspec": {
   "display_name": "Python [conda env:datasci]",
   "language": "python",
   "name": "conda-env-datasci-py"
  },
  "language_info": {
   "codemirror_mode": {
    "name": "ipython",
    "version": 3
   },
   "file_extension": ".py",
   "mimetype": "text/x-python",
   "name": "python",
   "nbconvert_exporter": "python",
   "pygments_lexer": "ipython3",
   "version": "3.13.2"
  }
 },
 "nbformat": 4,
 "nbformat_minor": 5
}
